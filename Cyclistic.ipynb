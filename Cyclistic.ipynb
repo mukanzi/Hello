{
  "nbformat": 4,
  "nbformat_minor": 0,
  "metadata": {
    "colab": {
      "provenance": [],
      "authorship_tag": "ABX9TyNxWeNSpQCoimlzC086XiXD",
      "include_colab_link": true
    },
    "kernelspec": {
      "name": "python3",
      "display_name": "Python 3"
    },
    "language_info": {
      "name": "python"
    }
  },
  "cells": [
    {
      "cell_type": "markdown",
      "metadata": {
        "id": "view-in-github",
        "colab_type": "text"
      },
      "source": [
        "<a href=\"https://colab.research.google.com/github/mukanzi/Hello/blob/master/Cyclistic.ipynb\" target=\"_parent\"><img src=\"https://colab.research.google.com/assets/colab-badge.svg\" alt=\"Open In Colab\"/></a>"
      ]
    },
    {
      "cell_type": "markdown",
      "source": [
        "# Cyclistic Bike-Share Analysis."
      ],
      "metadata": {
        "id": "3Prt9DCMDuvJ"
      }
    },
    {
      "cell_type": "code",
      "source": [
        "#importing relevant packages\n",
        "import pandas as pd\n",
        "import matplotlib.pyplot as plt\n",
        "import seaborn as sns\n",
        "sns.set()"
      ],
      "metadata": {
        "id": "iwocL-KQDw9Y"
      },
      "execution_count": 1,
      "outputs": []
    },
    {
      "cell_type": "markdown",
      "source": [
        "## Preparing the data.\n",
        "\n",
        "The first step is to prepare all the data and get them into one data frame for analysis of the data for the past year for different rides.\n",
        "\n",
        "I will create the dataframes individually and then combine them into one complete data frame."
      ],
      "metadata": {
        "id": "IcNrnLtxE6xd"
      }
    },
    {
      "cell_type": "code",
      "source": [
        "#List of file paths to the csv files that have the datasets\n",
        "file_path = ['/content/divvy_data/202201-divvy-tripdata.csv', '/content/divvy_data/202202-divvy-tripdata.csv', '/content/divvy_data/202203-divvy-tripdata.csv', '/content/divvy_data/202204-divvy-tripdata.csv','/content/divvy_data/202205-divvy-tripdata.csv','/content/divvy_data/202206-divvy-tripdata.csv','/content/divvy_data/202207-divvy-tripdata.csv','/content/divvy_data/202208-divvy-tripdata.csv','/content/divvy_data/202209-divvy-publictripdata.csv','/content/divvy_data/202210-divvy-tripdata.csv','/content/divvy_data/202211-divvy-tripdata.csv','/content/divvy_data/202212-divvy-tripdata.csv']\n",
        "\n",
        "\n",
        "#creating and merging the dataframes into one complete data frame.\n",
        "dfs =[]\n",
        "for path in file_path:\n",
        "  df = pd.read_csv(path)\n",
        "  dfs.append(df)\n",
        "\n",
        "combined_df = pd.concat(dfs, ignore_index=True)\n"
      ],
      "metadata": {
        "id": "Q3jFbCqUFPHl"
      },
      "execution_count": 16,
      "outputs": []
    },
    {
      "cell_type": "markdown",
      "source": [
        "The dataframes have been created succesfully and merged into one dataframe with approximately 5M rows of data. Looking at the shape of the dataframe."
      ],
      "metadata": {
        "id": "aLR7pXwBLtNP"
      }
    },
    {
      "cell_type": "code",
      "source": [
        "combined_df.shape"
      ],
      "metadata": {
        "colab": {
          "base_uri": "https://localhost:8080/"
        },
        "id": "zk8YtjNELTsv",
        "outputId": "11f1774b-ad1e-478d-fdee-ca644cb7ed4b"
      },
      "execution_count": 22,
      "outputs": [
        {
          "output_type": "execute_result",
          "data": {
            "text/plain": [
              "(5667717, 13)"
            ]
          },
          "metadata": {},
          "execution_count": 22
        }
      ]
    },
    {
      "cell_type": "code",
      "source": [
        "combined_df.head()"
      ],
      "metadata": {
        "colab": {
          "base_uri": "https://localhost:8080/",
          "height": 380
        },
        "id": "dLjxVgY7ME1v",
        "outputId": "7ee7bc77-34ce-46db-ddfc-cd965ec2a7e1"
      },
      "execution_count": 24,
      "outputs": [
        {
          "output_type": "execute_result",
          "data": {
            "text/plain": [
              "            ride_id  rideable_type           started_at             ended_at  \\\n",
              "0  C2F7DD78E82EC875  electric_bike  2022-01-13 11:59:47  2022-01-13 12:02:44   \n",
              "1  A6CF8980A652D272  electric_bike  2022-01-10 08:41:56  2022-01-10 08:46:17   \n",
              "2  BD0F91DFF741C66D   classic_bike  2022-01-25 04:53:40  2022-01-25 04:58:01   \n",
              "3  CBB80ED419105406   classic_bike  2022-01-04 00:18:04  2022-01-04 00:33:00   \n",
              "4  DDC963BFDDA51EEA   classic_bike  2022-01-20 01:31:10  2022-01-20 01:37:12   \n",
              "\n",
              "              start_station_name start_station_id  \\\n",
              "0       Glenwood Ave & Touhy Ave              525   \n",
              "1       Glenwood Ave & Touhy Ave              525   \n",
              "2  Sheffield Ave & Fullerton Ave     TA1306000016   \n",
              "3       Clark St & Bryn Mawr Ave     KA1504000151   \n",
              "4    Michigan Ave & Jackson Blvd     TA1309000002   \n",
              "\n",
              "                end_station_name end_station_id  start_lat  start_lng  \\\n",
              "0           Clark St & Touhy Ave         RP-007  42.012800 -87.665906   \n",
              "1           Clark St & Touhy Ave         RP-007  42.012763 -87.665967   \n",
              "2  Greenview Ave & Fullerton Ave   TA1307000001  41.925602 -87.653708   \n",
              "3      Paulina St & Montrose Ave   TA1309000021  41.983593 -87.669154   \n",
              "4         State St & Randolph St   TA1305000029  41.877850 -87.624080   \n",
              "\n",
              "     end_lat    end_lng member_casual  \n",
              "0  42.012560 -87.674367        casual  \n",
              "1  42.012560 -87.674367        casual  \n",
              "2  41.925330 -87.665800        member  \n",
              "3  41.961507 -87.671387        casual  \n",
              "4  41.884621 -87.627834        member  "
            ],
            "text/html": [
              "\n",
              "  <div id=\"df-ad3aa066-440b-4816-8008-d897888d372a\" class=\"colab-df-container\">\n",
              "    <div>\n",
              "<style scoped>\n",
              "    .dataframe tbody tr th:only-of-type {\n",
              "        vertical-align: middle;\n",
              "    }\n",
              "\n",
              "    .dataframe tbody tr th {\n",
              "        vertical-align: top;\n",
              "    }\n",
              "\n",
              "    .dataframe thead th {\n",
              "        text-align: right;\n",
              "    }\n",
              "</style>\n",
              "<table border=\"1\" class=\"dataframe\">\n",
              "  <thead>\n",
              "    <tr style=\"text-align: right;\">\n",
              "      <th></th>\n",
              "      <th>ride_id</th>\n",
              "      <th>rideable_type</th>\n",
              "      <th>started_at</th>\n",
              "      <th>ended_at</th>\n",
              "      <th>start_station_name</th>\n",
              "      <th>start_station_id</th>\n",
              "      <th>end_station_name</th>\n",
              "      <th>end_station_id</th>\n",
              "      <th>start_lat</th>\n",
              "      <th>start_lng</th>\n",
              "      <th>end_lat</th>\n",
              "      <th>end_lng</th>\n",
              "      <th>member_casual</th>\n",
              "    </tr>\n",
              "  </thead>\n",
              "  <tbody>\n",
              "    <tr>\n",
              "      <th>0</th>\n",
              "      <td>C2F7DD78E82EC875</td>\n",
              "      <td>electric_bike</td>\n",
              "      <td>2022-01-13 11:59:47</td>\n",
              "      <td>2022-01-13 12:02:44</td>\n",
              "      <td>Glenwood Ave &amp; Touhy Ave</td>\n",
              "      <td>525</td>\n",
              "      <td>Clark St &amp; Touhy Ave</td>\n",
              "      <td>RP-007</td>\n",
              "      <td>42.012800</td>\n",
              "      <td>-87.665906</td>\n",
              "      <td>42.012560</td>\n",
              "      <td>-87.674367</td>\n",
              "      <td>casual</td>\n",
              "    </tr>\n",
              "    <tr>\n",
              "      <th>1</th>\n",
              "      <td>A6CF8980A652D272</td>\n",
              "      <td>electric_bike</td>\n",
              "      <td>2022-01-10 08:41:56</td>\n",
              "      <td>2022-01-10 08:46:17</td>\n",
              "      <td>Glenwood Ave &amp; Touhy Ave</td>\n",
              "      <td>525</td>\n",
              "      <td>Clark St &amp; Touhy Ave</td>\n",
              "      <td>RP-007</td>\n",
              "      <td>42.012763</td>\n",
              "      <td>-87.665967</td>\n",
              "      <td>42.012560</td>\n",
              "      <td>-87.674367</td>\n",
              "      <td>casual</td>\n",
              "    </tr>\n",
              "    <tr>\n",
              "      <th>2</th>\n",
              "      <td>BD0F91DFF741C66D</td>\n",
              "      <td>classic_bike</td>\n",
              "      <td>2022-01-25 04:53:40</td>\n",
              "      <td>2022-01-25 04:58:01</td>\n",
              "      <td>Sheffield Ave &amp; Fullerton Ave</td>\n",
              "      <td>TA1306000016</td>\n",
              "      <td>Greenview Ave &amp; Fullerton Ave</td>\n",
              "      <td>TA1307000001</td>\n",
              "      <td>41.925602</td>\n",
              "      <td>-87.653708</td>\n",
              "      <td>41.925330</td>\n",
              "      <td>-87.665800</td>\n",
              "      <td>member</td>\n",
              "    </tr>\n",
              "    <tr>\n",
              "      <th>3</th>\n",
              "      <td>CBB80ED419105406</td>\n",
              "      <td>classic_bike</td>\n",
              "      <td>2022-01-04 00:18:04</td>\n",
              "      <td>2022-01-04 00:33:00</td>\n",
              "      <td>Clark St &amp; Bryn Mawr Ave</td>\n",
              "      <td>KA1504000151</td>\n",
              "      <td>Paulina St &amp; Montrose Ave</td>\n",
              "      <td>TA1309000021</td>\n",
              "      <td>41.983593</td>\n",
              "      <td>-87.669154</td>\n",
              "      <td>41.961507</td>\n",
              "      <td>-87.671387</td>\n",
              "      <td>casual</td>\n",
              "    </tr>\n",
              "    <tr>\n",
              "      <th>4</th>\n",
              "      <td>DDC963BFDDA51EEA</td>\n",
              "      <td>classic_bike</td>\n",
              "      <td>2022-01-20 01:31:10</td>\n",
              "      <td>2022-01-20 01:37:12</td>\n",
              "      <td>Michigan Ave &amp; Jackson Blvd</td>\n",
              "      <td>TA1309000002</td>\n",
              "      <td>State St &amp; Randolph St</td>\n",
              "      <td>TA1305000029</td>\n",
              "      <td>41.877850</td>\n",
              "      <td>-87.624080</td>\n",
              "      <td>41.884621</td>\n",
              "      <td>-87.627834</td>\n",
              "      <td>member</td>\n",
              "    </tr>\n",
              "  </tbody>\n",
              "</table>\n",
              "</div>\n",
              "    <div class=\"colab-df-buttons\">\n",
              "\n",
              "  <div class=\"colab-df-container\">\n",
              "    <button class=\"colab-df-convert\" onclick=\"convertToInteractive('df-ad3aa066-440b-4816-8008-d897888d372a')\"\n",
              "            title=\"Convert this dataframe to an interactive table.\"\n",
              "            style=\"display:none;\">\n",
              "\n",
              "  <svg xmlns=\"http://www.w3.org/2000/svg\" height=\"24px\" viewBox=\"0 -960 960 960\">\n",
              "    <path d=\"M120-120v-720h720v720H120Zm60-500h600v-160H180v160Zm220 220h160v-160H400v160Zm0 220h160v-160H400v160ZM180-400h160v-160H180v160Zm440 0h160v-160H620v160ZM180-180h160v-160H180v160Zm440 0h160v-160H620v160Z\"/>\n",
              "  </svg>\n",
              "    </button>\n",
              "\n",
              "  <style>\n",
              "    .colab-df-container {\n",
              "      display:flex;\n",
              "      gap: 12px;\n",
              "    }\n",
              "\n",
              "    .colab-df-convert {\n",
              "      background-color: #E8F0FE;\n",
              "      border: none;\n",
              "      border-radius: 50%;\n",
              "      cursor: pointer;\n",
              "      display: none;\n",
              "      fill: #1967D2;\n",
              "      height: 32px;\n",
              "      padding: 0 0 0 0;\n",
              "      width: 32px;\n",
              "    }\n",
              "\n",
              "    .colab-df-convert:hover {\n",
              "      background-color: #E2EBFA;\n",
              "      box-shadow: 0px 1px 2px rgba(60, 64, 67, 0.3), 0px 1px 3px 1px rgba(60, 64, 67, 0.15);\n",
              "      fill: #174EA6;\n",
              "    }\n",
              "\n",
              "    .colab-df-buttons div {\n",
              "      margin-bottom: 4px;\n",
              "    }\n",
              "\n",
              "    [theme=dark] .colab-df-convert {\n",
              "      background-color: #3B4455;\n",
              "      fill: #D2E3FC;\n",
              "    }\n",
              "\n",
              "    [theme=dark] .colab-df-convert:hover {\n",
              "      background-color: #434B5C;\n",
              "      box-shadow: 0px 1px 3px 1px rgba(0, 0, 0, 0.15);\n",
              "      filter: drop-shadow(0px 1px 2px rgba(0, 0, 0, 0.3));\n",
              "      fill: #FFFFFF;\n",
              "    }\n",
              "  </style>\n",
              "\n",
              "    <script>\n",
              "      const buttonEl =\n",
              "        document.querySelector('#df-ad3aa066-440b-4816-8008-d897888d372a button.colab-df-convert');\n",
              "      buttonEl.style.display =\n",
              "        google.colab.kernel.accessAllowed ? 'block' : 'none';\n",
              "\n",
              "      async function convertToInteractive(key) {\n",
              "        const element = document.querySelector('#df-ad3aa066-440b-4816-8008-d897888d372a');\n",
              "        const dataTable =\n",
              "          await google.colab.kernel.invokeFunction('convertToInteractive',\n",
              "                                                    [key], {});\n",
              "        if (!dataTable) return;\n",
              "\n",
              "        const docLinkHtml = 'Like what you see? Visit the ' +\n",
              "          '<a target=\"_blank\" href=https://colab.research.google.com/notebooks/data_table.ipynb>data table notebook</a>'\n",
              "          + ' to learn more about interactive tables.';\n",
              "        element.innerHTML = '';\n",
              "        dataTable['output_type'] = 'display_data';\n",
              "        await google.colab.output.renderOutput(dataTable, element);\n",
              "        const docLink = document.createElement('div');\n",
              "        docLink.innerHTML = docLinkHtml;\n",
              "        element.appendChild(docLink);\n",
              "      }\n",
              "    </script>\n",
              "  </div>\n",
              "\n",
              "\n",
              "<div id=\"df-9cb86d1b-edf4-4163-a1fa-6650903d7846\">\n",
              "  <button class=\"colab-df-quickchart\" onclick=\"quickchart('df-9cb86d1b-edf4-4163-a1fa-6650903d7846')\"\n",
              "            title=\"Suggest charts.\"\n",
              "            style=\"display:none;\">\n",
              "\n",
              "<svg xmlns=\"http://www.w3.org/2000/svg\" height=\"24px\"viewBox=\"0 0 24 24\"\n",
              "     width=\"24px\">\n",
              "    <g>\n",
              "        <path d=\"M19 3H5c-1.1 0-2 .9-2 2v14c0 1.1.9 2 2 2h14c1.1 0 2-.9 2-2V5c0-1.1-.9-2-2-2zM9 17H7v-7h2v7zm4 0h-2V7h2v10zm4 0h-2v-4h2v4z\"/>\n",
              "    </g>\n",
              "</svg>\n",
              "  </button>\n",
              "\n",
              "<style>\n",
              "  .colab-df-quickchart {\n",
              "      --bg-color: #E8F0FE;\n",
              "      --fill-color: #1967D2;\n",
              "      --hover-bg-color: #E2EBFA;\n",
              "      --hover-fill-color: #174EA6;\n",
              "      --disabled-fill-color: #AAA;\n",
              "      --disabled-bg-color: #DDD;\n",
              "  }\n",
              "\n",
              "  [theme=dark] .colab-df-quickchart {\n",
              "      --bg-color: #3B4455;\n",
              "      --fill-color: #D2E3FC;\n",
              "      --hover-bg-color: #434B5C;\n",
              "      --hover-fill-color: #FFFFFF;\n",
              "      --disabled-bg-color: #3B4455;\n",
              "      --disabled-fill-color: #666;\n",
              "  }\n",
              "\n",
              "  .colab-df-quickchart {\n",
              "    background-color: var(--bg-color);\n",
              "    border: none;\n",
              "    border-radius: 50%;\n",
              "    cursor: pointer;\n",
              "    display: none;\n",
              "    fill: var(--fill-color);\n",
              "    height: 32px;\n",
              "    padding: 0;\n",
              "    width: 32px;\n",
              "  }\n",
              "\n",
              "  .colab-df-quickchart:hover {\n",
              "    background-color: var(--hover-bg-color);\n",
              "    box-shadow: 0 1px 2px rgba(60, 64, 67, 0.3), 0 1px 3px 1px rgba(60, 64, 67, 0.15);\n",
              "    fill: var(--button-hover-fill-color);\n",
              "  }\n",
              "\n",
              "  .colab-df-quickchart-complete:disabled,\n",
              "  .colab-df-quickchart-complete:disabled:hover {\n",
              "    background-color: var(--disabled-bg-color);\n",
              "    fill: var(--disabled-fill-color);\n",
              "    box-shadow: none;\n",
              "  }\n",
              "\n",
              "  .colab-df-spinner {\n",
              "    border: 2px solid var(--fill-color);\n",
              "    border-color: transparent;\n",
              "    border-bottom-color: var(--fill-color);\n",
              "    animation:\n",
              "      spin 1s steps(1) infinite;\n",
              "  }\n",
              "\n",
              "  @keyframes spin {\n",
              "    0% {\n",
              "      border-color: transparent;\n",
              "      border-bottom-color: var(--fill-color);\n",
              "      border-left-color: var(--fill-color);\n",
              "    }\n",
              "    20% {\n",
              "      border-color: transparent;\n",
              "      border-left-color: var(--fill-color);\n",
              "      border-top-color: var(--fill-color);\n",
              "    }\n",
              "    30% {\n",
              "      border-color: transparent;\n",
              "      border-left-color: var(--fill-color);\n",
              "      border-top-color: var(--fill-color);\n",
              "      border-right-color: var(--fill-color);\n",
              "    }\n",
              "    40% {\n",
              "      border-color: transparent;\n",
              "      border-right-color: var(--fill-color);\n",
              "      border-top-color: var(--fill-color);\n",
              "    }\n",
              "    60% {\n",
              "      border-color: transparent;\n",
              "      border-right-color: var(--fill-color);\n",
              "    }\n",
              "    80% {\n",
              "      border-color: transparent;\n",
              "      border-right-color: var(--fill-color);\n",
              "      border-bottom-color: var(--fill-color);\n",
              "    }\n",
              "    90% {\n",
              "      border-color: transparent;\n",
              "      border-bottom-color: var(--fill-color);\n",
              "    }\n",
              "  }\n",
              "</style>\n",
              "\n",
              "  <script>\n",
              "    async function quickchart(key) {\n",
              "      const quickchartButtonEl =\n",
              "        document.querySelector('#' + key + ' button');\n",
              "      quickchartButtonEl.disabled = true;  // To prevent multiple clicks.\n",
              "      quickchartButtonEl.classList.add('colab-df-spinner');\n",
              "      try {\n",
              "        const charts = await google.colab.kernel.invokeFunction(\n",
              "            'suggestCharts', [key], {});\n",
              "      } catch (error) {\n",
              "        console.error('Error during call to suggestCharts:', error);\n",
              "      }\n",
              "      quickchartButtonEl.classList.remove('colab-df-spinner');\n",
              "      quickchartButtonEl.classList.add('colab-df-quickchart-complete');\n",
              "    }\n",
              "    (() => {\n",
              "      let quickchartButtonEl =\n",
              "        document.querySelector('#df-9cb86d1b-edf4-4163-a1fa-6650903d7846 button');\n",
              "      quickchartButtonEl.style.display =\n",
              "        google.colab.kernel.accessAllowed ? 'block' : 'none';\n",
              "    })();\n",
              "  </script>\n",
              "</div>\n",
              "    </div>\n",
              "  </div>\n"
            ]
          },
          "metadata": {},
          "execution_count": 24
        }
      ]
    },
    {
      "cell_type": "markdown",
      "source": [
        "##Preparing the data.\n",
        "\n",
        "This is the cleaning phase of the data analysis process."
      ],
      "metadata": {
        "id": "iLz1t44rMiqm"
      }
    },
    {
      "cell_type": "code",
      "source": [
        "combined_df.columns"
      ],
      "metadata": {
        "colab": {
          "base_uri": "https://localhost:8080/"
        },
        "id": "NY5ROns3MxAI",
        "outputId": "47408c81-1139-4b6d-8baa-74fbd7b321b6"
      },
      "execution_count": 28,
      "outputs": [
        {
          "output_type": "execute_result",
          "data": {
            "text/plain": [
              "Index(['ride_id', 'rideable_type', 'started_at', 'ended_at',\n",
              "       'start_station_name', 'start_station_id', 'end_station_name',\n",
              "       'end_station_id', 'start_lat', 'start_lng', 'end_lat', 'end_lng',\n",
              "       'member_casual'],\n",
              "      dtype='object')"
            ]
          },
          "metadata": {},
          "execution_count": 28
        }
      ]
    },
    {
      "cell_type": "code",
      "source": [
        "combined_df.dtypes"
      ],
      "metadata": {
        "colab": {
          "base_uri": "https://localhost:8080/"
        },
        "id": "ki6ydtWQQ5tX",
        "outputId": "5966b84a-e07b-4e7e-925b-4af812163fc1"
      },
      "execution_count": 29,
      "outputs": [
        {
          "output_type": "execute_result",
          "data": {
            "text/plain": [
              "ride_id                object\n",
              "rideable_type          object\n",
              "started_at             object\n",
              "ended_at               object\n",
              "start_station_name     object\n",
              "start_station_id       object\n",
              "end_station_name       object\n",
              "end_station_id         object\n",
              "start_lat             float64\n",
              "start_lng             float64\n",
              "end_lat               float64\n",
              "end_lng               float64\n",
              "member_casual          object\n",
              "dtype: object"
            ]
          },
          "metadata": {},
          "execution_count": 29
        }
      ]
    },
    {
      "cell_type": "code",
      "source": [
        "combined_df['rideable_type'].value_counts()"
      ],
      "metadata": {
        "colab": {
          "base_uri": "https://localhost:8080/"
        },
        "id": "bZWsZ2N9RHp_",
        "outputId": "b495bff9-369d-49af-f953-08e7673f2e54"
      },
      "execution_count": 31,
      "outputs": [
        {
          "output_type": "execute_result",
          "data": {
            "text/plain": [
              "electric_bike    2889029\n",
              "classic_bike     2601214\n",
              "docked_bike       177474\n",
              "Name: rideable_type, dtype: int64"
            ]
          },
          "metadata": {},
          "execution_count": 31
        }
      ]
    }
  ]
}